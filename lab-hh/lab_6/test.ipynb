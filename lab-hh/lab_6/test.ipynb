{
 "cells": [
  {
   "cell_type": "code",
   "execution_count": 31,
   "metadata": {},
   "outputs": [
    {
     "name": "stdout",
     "output_type": "stream",
     "text": [
      "Ethernet 10:00:00:00:00:01->20:00:00:00:00:01 IP | IPv4 192.168.0.1->192.168.0.2 UDP | UDP 0->0 | RawPacketContents (3 bytes) b'125' | RawPacketContents (3 bytes) b'125'\n"
     ]
    }
   ],
   "source": [
    "from switchyard.lib.address import *\n",
    "from switchyard.lib.packet import *\n",
    "from switchyard.lib.userlib import *\n",
    "from threading import *\n",
    "\n",
    "repkt=Ethernet(src=EthAddr(\"10:00:00:00:00:01\"),dst=EthAddr(\"20:00:00:00:00:01\"),ethertype=EtherType.IPv4)+\\\n",
    "    IPv4(protocol=IPProtocol.UDP,src=\"192.168.0.1\",dst=\"192.168.0.2\",ttl=64)+UDP()+\\\n",
    "    RawPacketContents(\"125\")+RawPacketContents(\"125\")\n",
    "print(repkt)\n"
   ]
  },
  {
   "cell_type": "code",
   "execution_count": 63,
   "metadata": {},
   "outputs": [
    {
     "name": "stdout",
     "output_type": "stream",
     "text": [
      "b'\\x03aaa'\n"
     ]
    }
   ],
   "source": [
    "print(struct.pack(\"!4p\",(RawPacketContents(\"aaa\").to_bytes())))"
   ]
  },
  {
   "cell_type": "code",
   "execution_count": 64,
   "metadata": {},
   "outputs": [
    {
     "name": "stdout",
     "output_type": "stream",
     "text": [
      "b'aa'\n"
     ]
    }
   ],
   "source": [
    "\n",
    "print(RawPacketContents(\"aaa\").to_bytes()[:2])"
   ]
  },
  {
   "cell_type": "code",
   "execution_count": 74,
   "metadata": {},
   "outputs": [],
   "source": [
    "m={\"a\":55,\"b\":9}\n",
    "a,b=m[a],m[b]"
   ]
  },
  {
   "cell_type": "code",
   "execution_count": 75,
   "metadata": {},
   "outputs": [
    {
     "name": "stdout",
     "output_type": "stream",
     "text": [
      "55\n"
     ]
    }
   ],
   "source": [
    "print(a)"
   ]
  }
 ],
 "metadata": {
  "kernelspec": {
   "display_name": "syenv",
   "language": "python",
   "name": "python3"
  },
  "language_info": {
   "codemirror_mode": {
    "name": "ipython",
    "version": 3
   },
   "file_extension": ".py",
   "mimetype": "text/x-python",
   "name": "python",
   "nbconvert_exporter": "python",
   "pygments_lexer": "ipython3",
   "version": "3.6.9"
  }
 },
 "nbformat": 4,
 "nbformat_minor": 2
}
